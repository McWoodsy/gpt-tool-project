{
 "cells": [
  {
   "cell_type": "code",
   "execution_count": 1,
   "id": "53e6c157-7fa6-4cd7-a54d-a99ae33a71c5",
   "metadata": {},
   "outputs": [],
   "source": [
    "from flask import Flask, render_template, request\n",
    "from openai import OpenAI\n",
    "import json\n",
    "from dotenv import dotenv_values\n",
    "import matplotlib.pyplot as plt"
   ]
  },
  {
   "cell_type": "code",
   "execution_count": 2,
   "id": "34cbccbb-c256-4fac-913e-ea4e721d09da",
   "metadata": {},
   "outputs": [],
   "source": [
    "def get_chart_info(option_list, metric):\n",
    "    #   Creating a string from the list so that it can be passed in at once to the GPT \n",
    "    formatted_concept_list = \"\"\n",
    "    formatted_option_list = \"\"\n",
    "    for concept in concept_list:\n",
    "        formatted_concept_list.append(concept + \", \")\n",
    "    for option in option_list:\n",
    "        formatted_option_list.append(option + \", \")  \n",
    "        \n",
    "    response = client.chat.completions.create(model=\"gpt-3.5-turbo-0125\",\n",
    "    messages=[\n",
    "    {\"role\": \"system\", \"content\": \"\"\"\n",
    "    YOU WILL PROVIDE NO OUTPUT EXCEPT JSON. You recieve a list of concepts. You will also recieve a list of options. You will compare each option\n",
    "    to eachother in terms of the concepts provided. Your output format should be the concepts as keys, and then a key value pair of options and its corresponding\n",
    "    information.\n",
    "    \"\"\"},\n",
    "    {\"role\": \"user\", \"content\": \" in terms of \" + concept_list + \" compare \" + option_list},\n",
    "    ],\n",
    "    max_tokens = 200)\n",
    "    return response.choices[0].message.content"
   ]
  },
  {
   "cell_type": "code",
   "execution_count": 4,
   "id": "0e0132b2-1c68-439b-936d-d49f52073f58",
   "metadata": {},
   "outputs": [
    {
     "ename": "AttributeError",
     "evalue": "'str' object has no attribute 'append'",
     "output_type": "error",
     "traceback": [
      "\u001b[0;31m---------------------------------------------------------------------------\u001b[0m",
      "\u001b[0;31mAttributeError\u001b[0m                            Traceback (most recent call last)",
      "Cell \u001b[0;32mIn[4], line 1\u001b[0m\n\u001b[0;32m----> 1\u001b[0m \u001b[38;5;28mprint\u001b[39m(\u001b[43mget_table_info\u001b[49m\u001b[43m(\u001b[49m\u001b[38;5;124;43m\"\u001b[39;49m\u001b[38;5;124;43mfrance, england\u001b[39;49m\u001b[38;5;124;43m\"\u001b[39;49m\u001b[43m,\u001b[49m\u001b[43m \u001b[49m\u001b[38;5;124;43m\"\u001b[39;49m\u001b[38;5;124;43mpopulation size\u001b[39;49m\u001b[38;5;124;43m\"\u001b[39;49m\u001b[43m)\u001b[49m)\n",
      "Cell \u001b[0;32mIn[2], line 6\u001b[0m, in \u001b[0;36mget_table_info\u001b[0;34m(option_list, concept_list)\u001b[0m\n\u001b[1;32m      4\u001b[0m formatted_option_list \u001b[38;5;241m=\u001b[39m \u001b[38;5;124m\"\u001b[39m\u001b[38;5;124m\"\u001b[39m\n\u001b[1;32m      5\u001b[0m \u001b[38;5;28;01mfor\u001b[39;00m concept \u001b[38;5;129;01min\u001b[39;00m concept_list:\n\u001b[0;32m----> 6\u001b[0m     \u001b[43mformatted_concept_list\u001b[49m\u001b[38;5;241;43m.\u001b[39;49m\u001b[43mappend\u001b[49m(concept \u001b[38;5;241m+\u001b[39m \u001b[38;5;124m\"\u001b[39m\u001b[38;5;124m, \u001b[39m\u001b[38;5;124m\"\u001b[39m)\n\u001b[1;32m      7\u001b[0m \u001b[38;5;28;01mfor\u001b[39;00m option \u001b[38;5;129;01min\u001b[39;00m option_list:\n\u001b[1;32m      8\u001b[0m     formatted_option_list\u001b[38;5;241m.\u001b[39mappend(option \u001b[38;5;241m+\u001b[39m \u001b[38;5;124m\"\u001b[39m\u001b[38;5;124m, \u001b[39m\u001b[38;5;124m\"\u001b[39m)  \n",
      "\u001b[0;31mAttributeError\u001b[0m: 'str' object has no attribute 'append'"
     ]
    }
   ],
   "source": [
    "print(get_table_info(\"france, england\", \"population size\"))"
   ]
  },
  {
   "cell_type": "code",
   "execution_count": null,
   "id": "39f2ba27-e4e6-47ca-a102-51885eaa50b7",
   "metadata": {},
   "outputs": [],
   "source": []
  }
 ],
 "metadata": {
  "kernelspec": {
   "display_name": "Python 3 (ipykernel)",
   "language": "python",
   "name": "python3"
  },
  "language_info": {
   "codemirror_mode": {
    "name": "ipython",
    "version": 3
   },
   "file_extension": ".py",
   "mimetype": "text/x-python",
   "name": "python",
   "nbconvert_exporter": "python",
   "pygments_lexer": "ipython3",
   "version": "3.12.0"
  }
 },
 "nbformat": 4,
 "nbformat_minor": 5
}
